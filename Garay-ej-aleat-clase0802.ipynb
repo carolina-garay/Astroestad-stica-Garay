{
 "cells": [
  {
   "cell_type": "code",
   "execution_count": 2,
   "metadata": {},
   "outputs": [
    {
     "name": "stdout",
     "output_type": "stream",
     "text": [
      "[1.33830226e-04 6.59934041e-04 2.72554160e-03 9.42781527e-03\n",
      " 2.73133694e-02 6.62743467e-02 1.34685734e-01 2.29247023e-01\n",
      " 3.26807320e-01 3.90198694e-01 3.90198694e-01 3.26807320e-01\n",
      " 2.29247023e-01 1.34685734e-01 6.62743467e-02 2.73133694e-02\n",
      " 9.42781527e-03 2.72554160e-03 6.59934041e-04 1.33830226e-04]\n",
      "[1.33830226e-04 3.26807320e-01 6.62743467e-02 2.72554160e-03]\n"
     ]
    }
   ],
   "source": [
    "# Garay Carolina del Valle\n",
    "\n",
    "import numpy as np\n",
    "import random \n",
    "\n",
    "x = np.linspace(-4,4,20)\n",
    "sigma=1\n",
    "gauss1= 1 / sigma * 1 / np.sqrt(2*np.pi) * np.exp(-0.5 * (x/sigma)**2)\n",
    "\n",
    "print(gauss1)\n",
    "\n",
    "gauss2 = gauss1.tolist()\n",
    "\n",
    "aleat = np.random.choice(gauss2, 4, False)\n",
    "print(aleat)\n"
   ]
  },
  {
   "cell_type": "code",
   "execution_count": null,
   "metadata": {},
   "outputs": [],
   "source": []
  }
 ],
 "metadata": {
  "kernelspec": {
   "display_name": "Python 3",
   "language": "python",
   "name": "python3"
  },
  "language_info": {
   "codemirror_mode": {
    "name": "ipython",
    "version": 3
   },
   "file_extension": ".py",
   "mimetype": "text/x-python",
   "name": "python",
   "nbconvert_exporter": "python",
   "pygments_lexer": "ipython3",
   "version": "3.7.1"
  }
 },
 "nbformat": 4,
 "nbformat_minor": 2
}
